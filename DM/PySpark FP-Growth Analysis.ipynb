{
 "cells": [
  {
   "cell_type": "markdown",
   "metadata": {},
   "source": [
    "# Exploring Market Basket Analysis with FPGrowth Algorithm in PySpark\n",
    "\n",
    "The provided code presents a comprehensive analysis of transactional data using PySpark's FPGrowth algorithm, focusing on the Online Retail dataset."
   ]
  },
  {
   "cell_type": "code",
   "execution_count": 12,
   "metadata": {
    "id": "x_VFeZltc8VB"
   },
   "outputs": [],
   "source": [
    "from pyspark import SparkContext, SparkConf"
   ]
  },
  {
   "cell_type": "code",
   "execution_count": 13,
   "metadata": {
    "id": "0toqTY4LdbvX"
   },
   "outputs": [],
   "source": [
    "from pyspark.sql import SparkSession\n",
    "\n",
    "# Create a SparkSession\n",
    "spark = SparkSession.builder.appName(\"MyApp\").getOrCreate()"
   ]
  },
  {
   "cell_type": "markdown",
   "metadata": {},
   "source": [
    "## 1. Load CSV File as DataFrame\n",
    "We started by creating a SparkSession and loading a CSV file named \"test.txt\" into a DataFrame using the spark.read.load() method. The file was loaded with a specific format (\"csv\"), delimiter (\";\"), and with the first row as headers."
   ]
  },
  {
   "cell_type": "code",
   "execution_count": 14,
   "metadata": {
    "id": "jWKvMR5odeFJ"
   },
   "outputs": [],
   "source": [
    "mydf=spark.read.load(\"/content/test.txt\", format=\"csv\",sep=\";\",header=\"true\")"
   ]
  },
  {
   "cell_type": "markdown",
   "metadata": {
    "id": "fewPx_WHU38a"
   },
   "source": [
    "## 2 Display the Content"
   ]
  },
  {
   "cell_type": "code",
   "execution_count": 15,
   "metadata": {
    "id": "jGbfxcSod3Tb"
   },
   "outputs": [],
   "source": [
    "mydf = spark.read.load(\"/content/test.txt\", format=\"csv\",sep=\";\",header=\"true\")"
   ]
  },
  {
   "cell_type": "code",
   "execution_count": 16,
   "metadata": {
    "colab": {
     "base_uri": "https://localhost:8080/"
    },
    "id": "SxjqvL6ReVGG",
    "outputId": "d4c0dc70-3cce-4253-8be6-e9dc393a186d"
   },
   "outputs": [
    {
     "name": "stdout",
     "output_type": "stream",
     "text": [
      "+------+----+----+\n",
      "|  Name| Age|Mark|\n",
      "+------+----+----+\n",
      "|  Said|  23| 15 |\n",
      "|  Sara|  19| 14 |\n",
      "| Assia|2016|NULL|\n",
      "|Moncef|  22|  18|\n",
      "+------+----+----+\n",
      "\n"
     ]
    }
   ],
   "source": [
    "mydf.show()"
   ]
  },
  {
   "cell_type": "markdown",
   "metadata": {},
   "source": [
    "## 3. Print Schema\n",
    "We printed the schema of the DataFrame to show the data types and nullability of the columns."
   ]
  },
  {
   "cell_type": "code",
   "execution_count": 17,
   "metadata": {
    "colab": {
     "base_uri": "https://localhost:8080/"
    },
    "id": "SamCfJ8beskr",
    "outputId": "2a54605a-ec98-4a04-b8b3-b4bdafcf3798"
   },
   "outputs": [
    {
     "name": "stdout",
     "output_type": "stream",
     "text": [
      "root\n",
      " |-- Name: string (nullable = true)\n",
      " |-- Age: string (nullable = true)\n",
      " |-- Mark: string (nullable = true)\n",
      "\n"
     ]
    }
   ],
   "source": [
    "mydf.printSchema()"
   ]
  },
  {
   "cell_type": "markdown",
   "metadata": {},
   "source": [
    "## 4. Select One Column\n",
    "We selected the \"Name\" column from the DataFrame and displayed it using the select() and show() methods."
   ]
  },
  {
   "cell_type": "code",
   "execution_count": 18,
   "metadata": {
    "colab": {
     "base_uri": "https://localhost:8080/"
    },
    "id": "7JxDzK5levnK",
    "outputId": "344cbb93-f835-4041-c1f7-249f971a9edb"
   },
   "outputs": [
    {
     "name": "stdout",
     "output_type": "stream",
     "text": [
      "+------+\n",
      "|  Name|\n",
      "+------+\n",
      "|  Said|\n",
      "|  Sara|\n",
      "| Assia|\n",
      "|Moncef|\n",
      "+------+\n",
      "\n"
     ]
    }
   ],
   "source": [
    "mydf.select(\"Name\").show()"
   ]
  },
  {
   "cell_type": "markdown",
   "metadata": {},
   "source": [
    "## 5. Select People Older Than 22\n",
    "We filtered the DataFrame to select people with an \"Age\" greater than 22 and displayed the filtered data using the filter() and show() methods."
   ]
  },
  {
   "cell_type": "code",
   "execution_count": 19,
   "metadata": {
    "colab": {
     "base_uri": "https://localhost:8080/"
    },
    "id": "RxYFebJEeztA",
    "outputId": "a44738c0-6b87-4e82-b704-6deecc0a1e53"
   },
   "outputs": [
    {
     "name": "stdout",
     "output_type": "stream",
     "text": [
      "+-----+----+----+\n",
      "| Name| Age|Mark|\n",
      "+-----+----+----+\n",
      "| Said|  23| 15 |\n",
      "|Assia|2016|NULL|\n",
      "+-----+----+----+\n",
      "\n"
     ]
    }
   ],
   "source": [
    "mydf.filter(mydf['Age'] > 22).show()"
   ]
  },
  {
   "cell_type": "markdown",
   "metadata": {},
   "source": [
    "## 6. Rename Columns\n",
    "We renamed the columns of the DataFrame to \"user_name,\" \"user_age,\" and \"user_Mark\" using the toDF() method."
   ]
  },
  {
   "cell_type": "code",
   "execution_count": 20,
   "metadata": {
    "id": "Me5toXLxe9L3"
   },
   "outputs": [],
   "source": [
    "mydf=mydf.toDF(\"user_name\", \"user_age\",\"user_Mark\")"
   ]
  },
  {
   "cell_type": "markdown",
   "metadata": {},
   "source": [
    "## 7. Transform Columns\n",
    "We transformed the \"user_age\" column by adding 2 to its values and displayed the updated DataFrame using the withColumn() method."
   ]
  },
  {
   "cell_type": "code",
   "execution_count": 21,
   "metadata": {
    "id": "nOGnyPa1fCfW"
   },
   "outputs": [],
   "source": [
    "mydf = mydf.withColumn(\"user_age\", mydf.user_age + 2)"
   ]
  },
  {
   "cell_type": "code",
   "execution_count": 22,
   "metadata": {
    "colab": {
     "base_uri": "https://localhost:8080/"
    },
    "id": "e6Oo9kXWfJ4I",
    "outputId": "cd4d280a-dca8-4f13-c262-47105ad5f274"
   },
   "outputs": [
    {
     "name": "stdout",
     "output_type": "stream",
     "text": [
      "+---------+--------+---------+\n",
      "|user_name|user_age|user_Mark|\n",
      "+---------+--------+---------+\n",
      "|     Said|    25.0|      15 |\n",
      "|     Sara|    21.0|      14 |\n",
      "|    Assia|  2018.0|     NULL|\n",
      "|   Moncef|    24.0|       18|\n",
      "+---------+--------+---------+\n",
      "\n"
     ]
    }
   ],
   "source": [
    "mydf.show()"
   ]
  },
  {
   "cell_type": "markdown",
   "metadata": {},
   "source": [
    "# Online Retail Dataset\n",
    "## 1. Import the Dataset\n",
    "We imported the Online Retail dataset from an Excel file and created a PySpark DataFrame.\n",
    "The OnlineRetail Dataset is a set of transactions made between 12/01/2010 and 12/09/2011 for\n",
    "a UK based online retail business. The company mainly sells gifts for all occasions. Many of\n",
    "the company's customers are wholesalers.\n",
    "(http://archive.ics.uci.edu/ml/datasets/online+retail#)\n",
    "Description of the fields in the dataset:\n",
    "- InvoiceNo: Transaction number\n",
    "- StockCode: Product code.\n",
    "- Description: Product name\n",
    "- Quantity: quantity of products purchased per transaction\n",
    "- Date and time\n",
    "- Unit price: unit price of the product\n",
    "- Customer number\n",
    "- Country\n",
    "## 1. Importing and Displaying the Online Retail Dataset\n"
   ]
  },
  {
   "cell_type": "code",
   "execution_count": 23,
   "metadata": {
    "id": "YznKZrbIfjHS"
   },
   "outputs": [],
   "source": [
    "import pandas as pd\n",
    "excel_file_path = \"/content/Online Retail.xlsx\"\n",
    "pandas_df = pd.read_excel(excel_file_path)"
   ]
  },
  {
   "cell_type": "code",
   "execution_count": 24,
   "metadata": {
    "id": "y5yuqW-BiADw"
   },
   "outputs": [],
   "source": [
    "df = spark.createDataFrame(pandas_df)"
   ]
  },
  {
   "cell_type": "code",
   "execution_count": 25,
   "metadata": {
    "colab": {
     "base_uri": "https://localhost:8080/"
    },
    "id": "ewLl2FGogqid",
    "outputId": "8a156503-401e-432f-cd18-cf119fd9f713"
   },
   "outputs": [
    {
     "name": "stdout",
     "output_type": "stream",
     "text": [
      "+---------+---------+--------------------+--------+-------------------+---------+----------+--------------+\n",
      "|InvoiceNo|StockCode|         Description|Quantity|        InvoiceDate|UnitPrice|CustomerID|       Country|\n",
      "+---------+---------+--------------------+--------+-------------------+---------+----------+--------------+\n",
      "|   536365|   85123A|WHITE HANGING HEA...|       6|2010-12-01 08:26:00|     2.55|   17850.0|United Kingdom|\n",
      "|   536365|    71053| WHITE METAL LANTERN|       6|2010-12-01 08:26:00|     3.39|   17850.0|United Kingdom|\n",
      "|   536365|   84406B|CREAM CUPID HEART...|       8|2010-12-01 08:26:00|     2.75|   17850.0|United Kingdom|\n",
      "|   536365|   84029G|KNITTED UNION FLA...|       6|2010-12-01 08:26:00|     3.39|   17850.0|United Kingdom|\n",
      "|   536365|   84029E|RED WOOLLY HOTTIE...|       6|2010-12-01 08:26:00|     3.39|   17850.0|United Kingdom|\n",
      "|   536365|    22752|SET 7 BABUSHKA NE...|       2|2010-12-01 08:26:00|     7.65|   17850.0|United Kingdom|\n",
      "|   536365|    21730|GLASS STAR FROSTE...|       6|2010-12-01 08:26:00|     4.25|   17850.0|United Kingdom|\n",
      "|   536366|    22633|HAND WARMER UNION...|       6|2010-12-01 08:28:00|     1.85|   17850.0|United Kingdom|\n",
      "|   536366|    22632|HAND WARMER RED P...|       6|2010-12-01 08:28:00|     1.85|   17850.0|United Kingdom|\n",
      "|   536367|    84879|ASSORTED COLOUR B...|      32|2010-12-01 08:34:00|     1.69|   13047.0|United Kingdom|\n",
      "|   536367|    22745|POPPY'S PLAYHOUSE...|       6|2010-12-01 08:34:00|      2.1|   13047.0|United Kingdom|\n",
      "|   536367|    22748|POPPY'S PLAYHOUSE...|       6|2010-12-01 08:34:00|      2.1|   13047.0|United Kingdom|\n",
      "|   536367|    22749|FELTCRAFT PRINCES...|       8|2010-12-01 08:34:00|     3.75|   13047.0|United Kingdom|\n",
      "|   536367|    22310|IVORY KNITTED MUG...|       6|2010-12-01 08:34:00|     1.65|   13047.0|United Kingdom|\n",
      "|   536367|    84969|BOX OF 6 ASSORTED...|       6|2010-12-01 08:34:00|     4.25|   13047.0|United Kingdom|\n",
      "|   536367|    22623|BOX OF VINTAGE JI...|       3|2010-12-01 08:34:00|     4.95|   13047.0|United Kingdom|\n",
      "|   536367|    22622|BOX OF VINTAGE AL...|       2|2010-12-01 08:34:00|     9.95|   13047.0|United Kingdom|\n",
      "|   536367|    21754|HOME BUILDING BLO...|       3|2010-12-01 08:34:00|     5.95|   13047.0|United Kingdom|\n",
      "|   536367|    21755|LOVE BUILDING BLO...|       3|2010-12-01 08:34:00|     5.95|   13047.0|United Kingdom|\n",
      "|   536367|    21777|RECIPE BOX WITH M...|       4|2010-12-01 08:34:00|     7.95|   13047.0|United Kingdom|\n",
      "+---------+---------+--------------------+--------+-------------------+---------+----------+--------------+\n",
      "only showing top 20 rows\n",
      "\n"
     ]
    }
   ],
   "source": [
    "df.show()"
   ]
  },
  {
   "cell_type": "code",
   "execution_count": 26,
   "metadata": {
    "id": "OU3MtgUWiH_o"
   },
   "outputs": [],
   "source": [
    "from pyspark.sql.functions import collect_list, expr"
   ]
  },
  {
   "cell_type": "code",
   "execution_count": 27,
   "metadata": {
    "id": "3A9Z3ZVijvJ_"
   },
   "outputs": [],
   "source": [
    "transactions_df = df.groupBy(\"InvoiceNo\").agg(collect_list(\"Description\").alias(\"items\")).select(\"InvoiceNo\", expr(\"array_distinct(items) as items\"))"
   ]
  },
  {
   "cell_type": "code",
   "execution_count": 28,
   "metadata": {
    "colab": {
     "base_uri": "https://localhost:8080/"
    },
    "id": "g74HFSZUjvAA",
    "outputId": "c0f3cc26-924d-49f6-a6ec-8da1a18e97d9"
   },
   "outputs": [
    {
     "name": "stdout",
     "output_type": "stream",
     "text": [
      "+---------+--------------------+\n",
      "|InvoiceNo|               items|\n",
      "+---------+--------------------+\n",
      "|   536366|[HAND WARMER UNIO...|\n",
      "|   536367|[ASSORTED COLOUR ...|\n",
      "|   536371|[PAPER CHAIN KIT ...|\n",
      "|   536374|[VICTORIAN SEWING...|\n",
      "|   536375|[WHITE HANGING HE...|\n",
      "|   536377|[HAND WARMER RED ...|\n",
      "|   536384|[WOOD BLACK BOARD...|\n",
      "|   536385|[SET 3 WICKER OVA...|\n",
      "|   536386|[WHITE WIRE EGG H...|\n",
      "|   536387|[CHILLI LIGHTS, L...|\n",
      "|   536389|[CHRISTMAS LIGHTS...|\n",
      "|   536392|[3 STRIPEY MICE F...|\n",
      "|   536394|[FANCY FONT BIRTH...|\n",
      "|   536395|[BLACK HEART CARD...|\n",
      "|   536396|[WHITE HANGING HE...|\n",
      "|   536398|[PACK OF 12 RED R...|\n",
      "|   536399|[HAND WARMER RED ...|\n",
      "|   536402|[PAPER CHAIN KIT ...|\n",
      "|   536403|[HAND WARMER BIRD...|\n",
      "|   536404|[HEART IVORY TREL...|\n",
      "+---------+--------------------+\n",
      "only showing top 20 rows\n",
      "\n"
     ]
    }
   ],
   "source": [
    "transactions_df.show()"
   ]
  },
  {
   "cell_type": "markdown",
   "metadata": {},
   "source": [
    "## 2. Extract Frequent Itemsets and Associations\n",
    "We used Spark MLlib library and the FPGrowth algorithm to extract frequent itemsets and associations. We set the minimum support to 0.02 and the minimum confidence to 0.1."
   ]
  },
  {
   "cell_type": "code",
   "execution_count": 29,
   "metadata": {
    "id": "IqLjbYCpirF8"
   },
   "outputs": [],
   "source": [
    "from pyspark.ml.fpm import FPGrowth"
   ]
  },
  {
   "cell_type": "code",
   "execution_count": 30,
   "metadata": {
    "id": "ITwSfwc5j7lH"
   },
   "outputs": [],
   "source": [
    "fpGrowth = FPGrowth(itemsCol=\"items\", minSupport=0.02, minConfidence=0.1)"
   ]
  },
  {
   "cell_type": "code",
   "execution_count": 31,
   "metadata": {
    "id": "QtVR34t0j9Ji"
   },
   "outputs": [],
   "source": [
    "model = fpGrowth.fit(transactions_df)\n",
    "frequent_itemsets = model.freqItemsets"
   ]
  },
  {
   "cell_type": "code",
   "execution_count": 32,
   "metadata": {
    "colab": {
     "base_uri": "https://localhost:8080/"
    },
    "id": "oHLb85W9j91R",
    "outputId": "3541c1ea-1bb8-4c4f-94d6-9659a5a84925"
   },
   "outputs": [
    {
     "name": "stdout",
     "output_type": "stream",
     "text": [
      "+--------------------+----+\n",
      "|               items|freq|\n",
      "+--------------------+----+\n",
      "|[RED RETROSPOT CA...| 581|\n",
      "|[PLASTERS IN TIN ...| 709|\n",
      "|            [Manual]| 518|\n",
      "|[WORLD WAR 2 GLID...| 540|\n",
      "|[HOT WATER BOTTLE...| 663|\n",
      "|[VINTAGE HEADS AN...| 611|\n",
      "|[GINGERBREAD MAN ...| 672|\n",
      "|[72 SWEETHEART FA...| 619|\n",
      "|[ASSORTED COLOURS...| 522|\n",
      "|[IVORY KITCHEN SC...| 724|\n",
      "|[LOVEBIRD HANGING...| 547|\n",
      "|[CHARLOTTE BAG SU...| 894|\n",
      "|[ALARM CLOCK BAKE...| 799|\n",
      "|[BOX OF 24 COCKTA...| 590|\n",
      "|[LUNCH BAG APPLE ...|1049|\n",
      "|    [POPCORN HOLDER]| 839|\n",
      "|[DOORMAT NEW ENGL...| 602|\n",
      "|[VINTAGE SNAP CARDS]| 929|\n",
      "|[PACK OF 72 RETRO...|1334|\n",
      "|[LUNCH BAG SUKI D...|1103|\n",
      "+--------------------+----+\n",
      "only showing top 20 rows\n",
      "\n"
     ]
    }
   ],
   "source": [
    "frequent_itemsets=model.freqItemsets\n",
    "frequent_itemsets.show()"
   ]
  },
  {
   "cell_type": "markdown",
   "metadata": {},
   "source": [
    "## 3. Association Rules\n",
    "We also extracted association rules from the model and displayed them."
   ]
  },
  {
   "cell_type": "code",
   "execution_count": 33,
   "metadata": {
    "id": "_3uH9VGQj_Lw"
   },
   "outputs": [],
   "source": [
    "association_rules=model.associationRules"
   ]
  },
  {
   "cell_type": "code",
   "execution_count": 34,
   "metadata": {
    "colab": {
     "base_uri": "https://localhost:8080/"
    },
    "id": "SMP5WPHej4G2",
    "outputId": "e3033d4e-26b3-4566-eb66-38d9d5a36b40"
   },
   "outputs": [
    {
     "name": "stdout",
     "output_type": "stream",
     "text": [
      "+--------------------+--------------------+-------------------+------------------+--------------------+\n",
      "|          antecedent|          consequent|         confidence|              lift|             support|\n",
      "+--------------------+--------------------+-------------------+------------------+--------------------+\n",
      "|[LUNCH BAG SUKI D...|[LUNCH BAG RED RE...| 0.5113327289211242|  8.24114354639522|0.021776061776061777|\n",
      "|[LUNCH BAG SUKI D...|[LUNCH BAG  BLACK...| 0.4696282864913871|  9.39256572982774|                0.02|\n",
      "|[LUNCH BAG WOODLAND]|[LUNCH BAG RED RE...| 0.5130183220829315| 8.268310231454839| 0.02054054054054054|\n",
      "|[LUNCH BAG PINK P...|[LUNCH BAG RED RE...| 0.5522522522522523| 8.900643020120308|0.023667953667953667|\n",
      "|[LUNCH BAG PINK P...|[LUNCH BAG  BLACK...| 0.4927927927927928| 9.855855855855856| 0.02111969111969112|\n",
      "|[PINK REGENCY TEA...|[ROSES REGENCY TE...| 0.8524844720496895| 19.71370341614907|0.021196911196911198|\n",
      "|[JUMBO STORAGE BA...|[JUMBO SHOPPER VI...|0.43713572023313907| 9.538176203907584| 0.02027027027027027|\n",
      "|[JUMBO STORAGE BA...|[JUMBO BAG RED RE...| 0.6103247293921732| 7.403939340167346|  0.0283011583011583|\n",
      "|[JUMBO STORAGE BA...|[JUMBO BAG PINK P...|0.43130724396336384| 9.074620323843318|                0.02|\n",
      "|[LUNCH BAG CARS B...|[LUNCH BAG RED RE...| 0.4782608695652174| 7.708124780173697| 0.02166023166023166|\n",
      "|[LUNCH BAG CARS B...|[LUNCH BAG  BLACK...| 0.4484228473998295|  8.96845694799659|0.020308880308880308|\n",
      "|[GREEN REGENCY TE...|[ROSES REGENCY TE...| 0.7417218543046358|  17.1523178807947| 0.03027027027027027|\n",
      "|[GREEN REGENCY TE...|[REGENCY CAKESTAN...| 0.4900662251655629| 5.851874242410364|                0.02|\n",
      "|[GREEN REGENCY TE...|[PINK REGENCY TEA...|  0.609271523178808| 19.70053988805384|0.024864864864864864|\n",
      "|[PINK REGENCY TEA...|[GREEN REGENCY TE...| 0.8941368078175895|21.909312509437626|0.021196911196911198|\n",
      "|[JUMBO  BAG BAROQ...|[JUMBO BAG RED RE...| 0.6261879619852164| 7.596378555230494|0.022895752895752897|\n",
      "|[ROSES REGENCY TE...|[GREEN REGENCY TE...|                0.7|  17.1523178807947| 0.03027027027027027|\n",
      "|[ROSES REGENCY TE...|[REGENCY CAKESTAN...|0.47946428571428573|  5.72527662517289|0.020733590733590733|\n",
      "|[ROSES REGENCY TE...|[PINK REGENCY TEA...| 0.5482142857142858|17.726279650436958|0.023706563706563707|\n",
      "|[GARDENERS KNEELI...|[GARDENERS KNEELI...| 0.7176470588235294| 20.11586452762923|0.021196911196911198|\n",
      "+--------------------+--------------------+-------------------+------------------+--------------------+\n",
      "only showing top 20 rows\n",
      "\n"
     ]
    }
   ],
   "source": [
    "association_rules.show()"
   ]
  },
  {
   "cell_type": "code",
   "execution_count": null,
   "metadata": {
    "id": "a6fjpuiflDRi"
   },
   "outputs": [],
   "source": []
  }
 ],
 "metadata": {
  "colab": {
   "provenance": []
  },
  "kernelspec": {
   "display_name": "Python 3 (ipykernel)",
   "language": "python",
   "name": "python3"
  },
  "language_info": {
   "codemirror_mode": {
    "name": "ipython",
    "version": 3
   },
   "file_extension": ".py",
   "mimetype": "text/x-python",
   "name": "python",
   "nbconvert_exporter": "python",
   "pygments_lexer": "ipython3",
   "version": "3.9.13"
  }
 },
 "nbformat": 4,
 "nbformat_minor": 1
}
